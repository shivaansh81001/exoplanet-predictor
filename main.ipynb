{
  "nbformat": 4,
  "nbformat_minor": 0,
  "metadata": {
    "colab": {
      "provenance": [],
      "authorship_tag": "ABX9TyNfWnpaAk8Vynm64llnknYw"
    },
    "kernelspec": {
      "name": "python3",
      "display_name": "Python 3"
    },
    "language_info": {
      "name": "python"
    }
  },
  "cells": [
    {
      "cell_type": "code",
      "execution_count": 38,
      "metadata": {
        "id": "ERKokxgmKP5e"
      },
      "outputs": [],
      "source": [
        "import numpy as np\n",
        "import pandas as pd\n",
        "import matplotlib.pyplot as plt\n",
        "from datascience import *\n",
        "from tensorflow.keras.models import Sequential\n",
        "from tensorflow.keras.layers import Dense"
      ]
    },
    {
      "cell_type": "code",
      "source": [
        "RANDOM_SEED = 420\n",
        "\n",
        "TRAIN_PERC=0.6\n",
        "VAL_PERC=0.2\n",
        "TEST_PERC=0.2"
      ],
      "metadata": {
        "id": "Z8Pf6RsenuXb"
      },
      "execution_count": 39,
      "outputs": []
    },
    {
      "cell_type": "code",
      "source": [
        "#test imports\n",
        "arr=[0,1,2,3,4,5,6,7,8,9]\n",
        "print(\"numpy working \",np.array(arr))\n",
        "print(\"pandas working \",pd.array(arr))\n",
        "Table().with_column(\"test\",np.array(arr)).show(1)\n"
      ],
      "metadata": {
        "id": "s07lM57HMGPU",
        "outputId": "ecd3cd1d-6ea4-46ca-cbe5-784a3bf01c37",
        "colab": {
          "base_uri": "https://localhost:8080/",
          "height": 184
        }
      },
      "execution_count": 40,
      "outputs": [
        {
          "output_type": "stream",
          "name": "stdout",
          "text": [
            "numpy working  [0 1 2 3 4 5 6 7 8 9]\n",
            "pandas working  <IntegerArray>\n",
            "[0, 1, 2, 3, 4, 5, 6, 7, 8, 9]\n",
            "Length: 10, dtype: Int64\n"
          ]
        },
        {
          "output_type": "display_data",
          "data": {
            "text/plain": [
              "<IPython.core.display.HTML object>"
            ],
            "text/html": [
              "<table border=\"1\" class=\"dataframe\">\n",
              "    <thead>\n",
              "        <tr>\n",
              "            <th>test</th>\n",
              "        </tr>\n",
              "    </thead>\n",
              "    <tbody>\n",
              "        <tr>\n",
              "            <td>0   </td>\n",
              "        </tr>\n",
              "    </tbody>\n",
              "</table>\n",
              "<p>... (9 rows omitted)</p>"
            ]
          },
          "metadata": {}
        }
      ]
    },
    {
      "cell_type": "code",
      "source": [
        "data=Table().read_table('cumulative.csv')\n",
        "data.show(5)\n",
        "data=data.drop([\"koi_tce_delivname\",\"koi_pdisposition\",\"kepler_name\",\"rowid\",\"kepid\",\"kepoi_name\",\"koi_teq_err1\",\"koi_teq_err2\",\"koi_score\"])\n",
        "\n",
        "for col in data.labels:\n",
        "  data=data.where(col,are.not_equal_to('nan'))\n",
        "data.show(5)\n"
      ],
      "metadata": {
        "id": "xcaLpQG-OhCy",
        "outputId": "ab07f68f-a922-4291-903b-d990bbb03f7f",
        "colab": {
          "base_uri": "https://localhost:8080/",
          "height": 474
        }
      },
      "execution_count": 41,
      "outputs": [
        {
          "output_type": "display_data",
          "data": {
            "text/plain": [
              "<IPython.core.display.HTML object>"
            ],
            "text/html": [
              "<table border=\"1\" class=\"dataframe\">\n",
              "    <thead>\n",
              "        <tr>\n",
              "            <th>rowid</th> <th>kepid</th> <th>kepoi_name</th> <th>kepler_name</th> <th>koi_disposition</th> <th>koi_pdisposition</th> <th>koi_score</th> <th>koi_fpflag_nt</th> <th>koi_fpflag_ss</th> <th>koi_fpflag_co</th> <th>koi_fpflag_ec</th> <th>koi_period</th> <th>koi_period_err1</th> <th>koi_period_err2</th> <th>koi_time0bk</th> <th>koi_time0bk_err1</th> <th>koi_time0bk_err2</th> <th>koi_impact</th> <th>koi_impact_err1</th> <th>koi_impact_err2</th> <th>koi_duration</th> <th>koi_duration_err1</th> <th>koi_duration_err2</th> <th>koi_depth</th> <th>koi_depth_err1</th> <th>koi_depth_err2</th> <th>koi_prad</th> <th>koi_prad_err1</th> <th>koi_prad_err2</th> <th>koi_teq</th> <th>koi_teq_err1</th> <th>koi_teq_err2</th> <th>koi_insol</th> <th>koi_insol_err1</th> <th>koi_insol_err2</th> <th>koi_model_snr</th> <th>koi_tce_plnt_num</th> <th>koi_tce_delivname</th> <th>koi_steff</th> <th>koi_steff_err1</th> <th>koi_steff_err2</th> <th>koi_slogg</th> <th>koi_slogg_err1</th> <th>koi_slogg_err2</th> <th>koi_srad</th> <th>koi_srad_err1</th> <th>koi_srad_err2</th> <th>ra</th> <th>dec</th> <th>koi_kepmag</th>\n",
              "        </tr>\n",
              "    </thead>\n",
              "    <tbody>\n",
              "        <tr>\n",
              "            <td>1    </td> <td>10797460</td> <td>K00752.01 </td> <td>Kepler-227 b</td> <td>CONFIRMED      </td> <td>CANDIDATE       </td> <td>1        </td> <td>0            </td> <td>0            </td> <td>0            </td> <td>0            </td> <td>9.48804   </td> <td>2.775e-05      </td> <td>-2.775e-05     </td> <td>170.539    </td> <td>0.00216         </td> <td>-0.00216        </td> <td>0.146     </td> <td>0.318          </td> <td>-0.146         </td> <td>2.9575      </td> <td>0.0819           </td> <td>-0.0819          </td> <td>615.8    </td> <td>19.5          </td> <td>-19.5         </td> <td>2.26    </td> <td>0.26         </td> <td>-0.15        </td> <td>793    </td> <td>nan         </td> <td>nan         </td> <td>93.59    </td> <td>29.45         </td> <td>-16.65        </td> <td>35.8         </td> <td>1               </td> <td>q1_q17_dr25_tce  </td> <td>5455     </td> <td>81            </td> <td>-81           </td> <td>4.467    </td> <td>0.064         </td> <td>-0.096        </td> <td>0.927   </td> <td>0.105        </td> <td>-0.061       </td> <td>291.934</td> <td>48.1417</td> <td>15.347    </td>\n",
              "        </tr>\n",
              "        <tr>\n",
              "            <td>2    </td> <td>10797460</td> <td>K00752.02 </td> <td>Kepler-227 c</td> <td>CONFIRMED      </td> <td>CANDIDATE       </td> <td>0.969    </td> <td>0            </td> <td>0            </td> <td>0            </td> <td>0            </td> <td>54.4184   </td> <td>0.0002479      </td> <td>-0.0002479     </td> <td>162.514    </td> <td>0.00352         </td> <td>-0.00352        </td> <td>0.586     </td> <td>0.059          </td> <td>-0.443         </td> <td>4.507       </td> <td>0.116            </td> <td>-0.116           </td> <td>874.8    </td> <td>35.5          </td> <td>-35.5         </td> <td>2.83    </td> <td>0.32         </td> <td>-0.19        </td> <td>443    </td> <td>nan         </td> <td>nan         </td> <td>9.11     </td> <td>2.87          </td> <td>-1.62         </td> <td>25.8         </td> <td>2               </td> <td>q1_q17_dr25_tce  </td> <td>5455     </td> <td>81            </td> <td>-81           </td> <td>4.467    </td> <td>0.064         </td> <td>-0.096        </td> <td>0.927   </td> <td>0.105        </td> <td>-0.061       </td> <td>291.934</td> <td>48.1417</td> <td>15.347    </td>\n",
              "        </tr>\n",
              "        <tr>\n",
              "            <td>3    </td> <td>10811496</td> <td>K00753.01 </td> <td>nan         </td> <td>FALSE POSITIVE </td> <td>FALSE POSITIVE  </td> <td>0        </td> <td>0            </td> <td>1            </td> <td>0            </td> <td>0            </td> <td>19.8991   </td> <td>1.494e-05      </td> <td>-1.494e-05     </td> <td>175.85     </td> <td>0.000581        </td> <td>-0.000581       </td> <td>0.969     </td> <td>5.126          </td> <td>-0.077         </td> <td>1.7822      </td> <td>0.0341           </td> <td>-0.0341          </td> <td>10829    </td> <td>171           </td> <td>-171          </td> <td>14.6    </td> <td>3.92         </td> <td>-1.31        </td> <td>638    </td> <td>nan         </td> <td>nan         </td> <td>39.3     </td> <td>31.04         </td> <td>-10.49        </td> <td>76.3         </td> <td>1               </td> <td>q1_q17_dr25_tce  </td> <td>5853     </td> <td>158           </td> <td>-176          </td> <td>4.544    </td> <td>0.044         </td> <td>-0.176        </td> <td>0.868   </td> <td>0.233        </td> <td>-0.078       </td> <td>297.005</td> <td>48.1341</td> <td>15.436    </td>\n",
              "        </tr>\n",
              "        <tr>\n",
              "            <td>4    </td> <td>10848459</td> <td>K00754.01 </td> <td>nan         </td> <td>FALSE POSITIVE </td> <td>FALSE POSITIVE  </td> <td>0        </td> <td>0            </td> <td>1            </td> <td>0            </td> <td>0            </td> <td>1.73695   </td> <td>2.63e-07       </td> <td>-2.63e-07      </td> <td>170.308    </td> <td>0.000115        </td> <td>-0.000115       </td> <td>1.276     </td> <td>0.115          </td> <td>-0.092         </td> <td>2.40641     </td> <td>0.00537          </td> <td>-0.00537         </td> <td>8079.2   </td> <td>12.8          </td> <td>-12.8         </td> <td>33.46   </td> <td>8.5          </td> <td>-2.83        </td> <td>1395   </td> <td>nan         </td> <td>nan         </td> <td>891.96   </td> <td>668.95        </td> <td>-230.35       </td> <td>505.6        </td> <td>1               </td> <td>q1_q17_dr25_tce  </td> <td>5805     </td> <td>157           </td> <td>-174          </td> <td>4.564    </td> <td>0.053         </td> <td>-0.168        </td> <td>0.791   </td> <td>0.201        </td> <td>-0.067       </td> <td>285.535</td> <td>48.2852</td> <td>15.597    </td>\n",
              "        </tr>\n",
              "        <tr>\n",
              "            <td>5    </td> <td>10854555</td> <td>K00755.01 </td> <td>Kepler-664 b</td> <td>CONFIRMED      </td> <td>CANDIDATE       </td> <td>1        </td> <td>0            </td> <td>0            </td> <td>0            </td> <td>0            </td> <td>2.52559   </td> <td>3.761e-06      </td> <td>-3.761e-06     </td> <td>171.596    </td> <td>0.00113         </td> <td>-0.00113        </td> <td>0.701     </td> <td>0.235          </td> <td>-0.478         </td> <td>1.6545      </td> <td>0.042            </td> <td>-0.042           </td> <td>603.3    </td> <td>16.9          </td> <td>-16.9         </td> <td>2.75    </td> <td>0.88         </td> <td>-0.35        </td> <td>1406   </td> <td>nan         </td> <td>nan         </td> <td>926.16   </td> <td>874.33        </td> <td>-314.24       </td> <td>40.9         </td> <td>1               </td> <td>q1_q17_dr25_tce  </td> <td>6031     </td> <td>169           </td> <td>-211          </td> <td>4.438    </td> <td>0.07          </td> <td>-0.21         </td> <td>1.046   </td> <td>0.334        </td> <td>-0.133       </td> <td>288.755</td> <td>48.2262</td> <td>15.509    </td>\n",
              "        </tr>\n",
              "    </tbody>\n",
              "</table>\n",
              "<p>... (9559 rows omitted)</p>"
            ]
          },
          "metadata": {}
        },
        {
          "output_type": "display_data",
          "data": {
            "text/plain": [
              "<IPython.core.display.HTML object>"
            ],
            "text/html": [
              "<table border=\"1\" class=\"dataframe\">\n",
              "    <thead>\n",
              "        <tr>\n",
              "            <th>koi_disposition</th> <th>koi_fpflag_nt</th> <th>koi_fpflag_ss</th> <th>koi_fpflag_co</th> <th>koi_fpflag_ec</th> <th>koi_period</th> <th>koi_period_err1</th> <th>koi_period_err2</th> <th>koi_time0bk</th> <th>koi_time0bk_err1</th> <th>koi_time0bk_err2</th> <th>koi_impact</th> <th>koi_impact_err1</th> <th>koi_impact_err2</th> <th>koi_duration</th> <th>koi_duration_err1</th> <th>koi_duration_err2</th> <th>koi_depth</th> <th>koi_depth_err1</th> <th>koi_depth_err2</th> <th>koi_prad</th> <th>koi_prad_err1</th> <th>koi_prad_err2</th> <th>koi_teq</th> <th>koi_insol</th> <th>koi_insol_err1</th> <th>koi_insol_err2</th> <th>koi_model_snr</th> <th>koi_tce_plnt_num</th> <th>koi_steff</th> <th>koi_steff_err1</th> <th>koi_steff_err2</th> <th>koi_slogg</th> <th>koi_slogg_err1</th> <th>koi_slogg_err2</th> <th>koi_srad</th> <th>koi_srad_err1</th> <th>koi_srad_err2</th> <th>ra</th> <th>dec</th> <th>koi_kepmag</th>\n",
              "        </tr>\n",
              "    </thead>\n",
              "    <tbody>\n",
              "        <tr>\n",
              "            <td>CONFIRMED      </td> <td>0            </td> <td>0            </td> <td>0            </td> <td>0            </td> <td>9.48804   </td> <td>2.775e-05      </td> <td>-2.775e-05     </td> <td>170.539    </td> <td>0.00216         </td> <td>-0.00216        </td> <td>0.146     </td> <td>0.318          </td> <td>-0.146         </td> <td>2.9575      </td> <td>0.0819           </td> <td>-0.0819          </td> <td>615.8    </td> <td>19.5          </td> <td>-19.5         </td> <td>2.26    </td> <td>0.26         </td> <td>-0.15        </td> <td>793    </td> <td>93.59    </td> <td>29.45         </td> <td>-16.65        </td> <td>35.8         </td> <td>1               </td> <td>5455     </td> <td>81            </td> <td>-81           </td> <td>4.467    </td> <td>0.064         </td> <td>-0.096        </td> <td>0.927   </td> <td>0.105        </td> <td>-0.061       </td> <td>291.934</td> <td>48.1417</td> <td>15.347    </td>\n",
              "        </tr>\n",
              "        <tr>\n",
              "            <td>CONFIRMED      </td> <td>0            </td> <td>0            </td> <td>0            </td> <td>0            </td> <td>54.4184   </td> <td>0.0002479      </td> <td>-0.0002479     </td> <td>162.514    </td> <td>0.00352         </td> <td>-0.00352        </td> <td>0.586     </td> <td>0.059          </td> <td>-0.443         </td> <td>4.507       </td> <td>0.116            </td> <td>-0.116           </td> <td>874.8    </td> <td>35.5          </td> <td>-35.5         </td> <td>2.83    </td> <td>0.32         </td> <td>-0.19        </td> <td>443    </td> <td>9.11     </td> <td>2.87          </td> <td>-1.62         </td> <td>25.8         </td> <td>2               </td> <td>5455     </td> <td>81            </td> <td>-81           </td> <td>4.467    </td> <td>0.064         </td> <td>-0.096        </td> <td>0.927   </td> <td>0.105        </td> <td>-0.061       </td> <td>291.934</td> <td>48.1417</td> <td>15.347    </td>\n",
              "        </tr>\n",
              "        <tr>\n",
              "            <td>FALSE POSITIVE </td> <td>0            </td> <td>1            </td> <td>0            </td> <td>0            </td> <td>19.8991   </td> <td>1.494e-05      </td> <td>-1.494e-05     </td> <td>175.85     </td> <td>0.000581        </td> <td>-0.000581       </td> <td>0.969     </td> <td>5.126          </td> <td>-0.077         </td> <td>1.7822      </td> <td>0.0341           </td> <td>-0.0341          </td> <td>10829    </td> <td>171           </td> <td>-171          </td> <td>14.6    </td> <td>3.92         </td> <td>-1.31        </td> <td>638    </td> <td>39.3     </td> <td>31.04         </td> <td>-10.49        </td> <td>76.3         </td> <td>1               </td> <td>5853     </td> <td>158           </td> <td>-176          </td> <td>4.544    </td> <td>0.044         </td> <td>-0.176        </td> <td>0.868   </td> <td>0.233        </td> <td>-0.078       </td> <td>297.005</td> <td>48.1341</td> <td>15.436    </td>\n",
              "        </tr>\n",
              "        <tr>\n",
              "            <td>FALSE POSITIVE </td> <td>0            </td> <td>1            </td> <td>0            </td> <td>0            </td> <td>1.73695   </td> <td>2.63e-07       </td> <td>-2.63e-07      </td> <td>170.308    </td> <td>0.000115        </td> <td>-0.000115       </td> <td>1.276     </td> <td>0.115          </td> <td>-0.092         </td> <td>2.40641     </td> <td>0.00537          </td> <td>-0.00537         </td> <td>8079.2   </td> <td>12.8          </td> <td>-12.8         </td> <td>33.46   </td> <td>8.5          </td> <td>-2.83        </td> <td>1395   </td> <td>891.96   </td> <td>668.95        </td> <td>-230.35       </td> <td>505.6        </td> <td>1               </td> <td>5805     </td> <td>157           </td> <td>-174          </td> <td>4.564    </td> <td>0.053         </td> <td>-0.168        </td> <td>0.791   </td> <td>0.201        </td> <td>-0.067       </td> <td>285.535</td> <td>48.2852</td> <td>15.597    </td>\n",
              "        </tr>\n",
              "        <tr>\n",
              "            <td>CONFIRMED      </td> <td>0            </td> <td>0            </td> <td>0            </td> <td>0            </td> <td>2.52559   </td> <td>3.761e-06      </td> <td>-3.761e-06     </td> <td>171.596    </td> <td>0.00113         </td> <td>-0.00113        </td> <td>0.701     </td> <td>0.235          </td> <td>-0.478         </td> <td>1.6545      </td> <td>0.042            </td> <td>-0.042           </td> <td>603.3    </td> <td>16.9          </td> <td>-16.9         </td> <td>2.75    </td> <td>0.88         </td> <td>-0.35        </td> <td>1406   </td> <td>926.16   </td> <td>874.33        </td> <td>-314.24       </td> <td>40.9         </td> <td>1               </td> <td>6031     </td> <td>169           </td> <td>-211          </td> <td>4.438    </td> <td>0.07          </td> <td>-0.21         </td> <td>1.046   </td> <td>0.334        </td> <td>-0.133       </td> <td>288.755</td> <td>48.2262</td> <td>15.509    </td>\n",
              "        </tr>\n",
              "    </tbody>\n",
              "</table>\n",
              "<p>... (9559 rows omitted)</p>"
            ]
          },
          "metadata": {}
        }
      ]
    },
    {
      "cell_type": "code",
      "source": [
        "target = (data.column(\"koi_disposition\")==\"CONFIRMED\").astype(int)\n",
        "X = data.drop(\"koi_disposition\").to_df()"
      ],
      "metadata": {
        "id": "E2lOSu7vlHCK"
      },
      "execution_count": 42,
      "outputs": []
    },
    {
      "cell_type": "code",
      "source": [
        "def get_accuracy(t, t_hat):\n",
        "    \"\"\"\n",
        "    Calculate accuracy,\n",
        "    \"\"\"\n",
        "    #print(t,t_hat)\n",
        "    acc=np.mean(t==t_hat)*100\n",
        "    #print(\"accuracy\",acc)\n",
        "    return acc"
      ],
      "metadata": {
        "id": "0zIPk9gar2an"
      },
      "execution_count": 43,
      "outputs": []
    },
    {
      "cell_type": "code",
      "source": [
        "def train_logistic_regression(X, t):\n",
        "    \"\"\"\n",
        "    Given data, train your logistic classifier.\n",
        "    Return weight and bias\n",
        "\n",
        "    \"\"\"\n",
        "\n",
        "    m,n=X.shape\n",
        "    w=np.zeros(n)\n",
        "    b=0\n",
        "\n",
        "    for i in range(1000):\n",
        "        t_hat=1/(1+np.exp(-(np.dot(X,w)+b)))\n",
        "        dw=(1/m)*np.dot(X.T,(t_hat-t))\n",
        "        db=(1/m)*np.sum(t_hat-t)\n",
        "        w-=0.1*dw\n",
        "        b-=0.1*db\n",
        "    #print(w,b)\n",
        "    return w, b\n",
        "\n",
        "\n",
        "def predict_logistic_regression(X, w, b):\n",
        "    \"\"\"\n",
        "    Generate predictions by your logistic classifier.\n",
        "    \"\"\"\n",
        "    temp=1/(1+np.exp(-(X@w+b)))\n",
        "    t=(temp>=0.5).astype(int)\n",
        "    return t"
      ],
      "metadata": {
        "id": "_9nwH34CrYsf"
      },
      "execution_count": 44,
      "outputs": []
    },
    {
      "cell_type": "code",
      "source": [
        "def main():\n",
        "  w, b = train_logistic_regression(X, target)\n",
        "  t_hat = predict_logistic_regression(X, w, b)\n",
        "  print(\"Accuracy of logistic regression on dataset A:\", get_accuracy(t_hat, target))\n",
        "\n",
        "main()"
      ],
      "metadata": {
        "id": "L6bzV6jGra9l",
        "outputId": "22cc79d4-773b-4ac7-a3fe-6da093c18f54",
        "colab": {
          "base_uri": "https://localhost:8080/"
        }
      },
      "execution_count": 47,
      "outputs": [
        {
          "output_type": "stream",
          "name": "stdout",
          "text": [
            "Accuracy of logistic regression on dataset A: 76.0246758678\n"
          ]
        }
      ]
    }
  ]
}